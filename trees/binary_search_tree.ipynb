{
 "cells": [
  {
   "cell_type": "markdown",
   "metadata": {},
   "source": [
    "# Binary Trees"
   ]
  },
  {
   "cell_type": "code",
   "execution_count": 152,
   "metadata": {},
   "outputs": [],
   "source": [
    "import collections"
   ]
  },
  {
   "cell_type": "code",
   "execution_count": 181,
   "metadata": {},
   "outputs": [],
   "source": [
    "class BinaryTreeNode:\n",
    "    def __init__(self, value):\n",
    "        self.value = value\n",
    "        self.left = None\n",
    "        self.right = None\n",
    "    \n",
    "    def insert_left(self, value):\n",
    "        self.left = BinaryTreeNode(value)\n",
    "        return self.left\n",
    "    \n",
    "    def insert_right(self, value):\n",
    "        self.right = BinaryTreeNode(value)\n",
    "        return self.right"
   ]
  },
  {
   "cell_type": "markdown",
   "metadata": {},
   "source": [
    "A valid binary tree is when everything on the left side is smaller and everything on the right is greater."
   ]
  },
  {
   "cell_type": "markdown",
   "metadata": {},
   "source": [
    "# Test Problem"
   ]
  },
  {
   "cell_type": "code",
   "execution_count": 182,
   "metadata": {},
   "outputs": [
    {
     "data": {
      "text/plain": [
       "<__main__.BinaryTreeNode at 0x11f8bc588>"
      ]
     },
     "execution_count": 182,
     "metadata": {},
     "output_type": "execute_result"
    }
   ],
   "source": [
    "root = BinaryTreeNode(50)\n",
    "\n",
    "a = root.insert_left(30)\n",
    "\n",
    "b = a.insert_left(20)\n",
    "\n",
    "a.insert_right(40)  # Change this to 60 if we want to test an invalid binary search tree\n",
    "\n",
    "b.insert_left(10)\n",
    "\n",
    "c = root.insert_right(80)\n",
    "\n",
    "d = c.insert_left(70)\n",
    "\n",
    "d.insert_left(60)\n",
    "\n",
    "e = c.insert_right(90)\n",
    "\n",
    "e.insert_left(85)\n",
    "\n",
    "e.insert_right(100)"
   ]
  },
  {
   "cell_type": "code",
   "execution_count": 165,
   "metadata": {},
   "outputs": [],
   "source": [
    "def traverse_depthwise(node):\n",
    "    deque = collections.deque([node])\n",
    "    while len(deque) > 0:\n",
    "        a_node = deque.pop()\n",
    "        yield a_node\n",
    "        # This order has leftward bias\n",
    "        if a_node.right is not None:\n",
    "            deque.append(a_node.right)\n",
    "        if a_node.left is not None:\n",
    "            deque.append(a_node.left)"
   ]
  },
  {
   "cell_type": "markdown",
   "metadata": {},
   "source": [
    "The first thing we should think about is how we want to traverse the tree because if we can do what we want to do in the one pass of the tree, that's a pretty good baseline."
   ]
  },
  {
   "cell_type": "markdown",
   "metadata": {},
   "source": [
    "breadth_first traversal stores in the QUEUE. Gets as big as how wide the tree is.\n",
    "Depth_first_traversal stores data in a STACK. Gets as big as how deep the tree is."
   ]
  },
  {
   "cell_type": "code",
   "execution_count": 185,
   "metadata": {},
   "outputs": [],
   "source": [
    "def traverse_breadthwise(node):\n",
    "    deque = collections.deque([node])\n",
    "    while len(deque) > 0:\n",
    "        a_node = deque.popleft()\n",
    "        yield a_node\n",
    "        if a_node.left is not None:\n",
    "            deque.append(a_node.left)\n",
    "        if a_node.right is not None:\n",
    "            deque.append(a_node.right)"
   ]
  },
  {
   "cell_type": "code",
   "execution_count": 187,
   "metadata": {},
   "outputs": [
    {
     "data": {
      "text/plain": [
       "[50, 30, 20, 10, 40, 80, 70, 60, 90, 85, 100]"
      ]
     },
     "execution_count": 187,
     "metadata": {},
     "output_type": "execute_result"
    }
   ],
   "source": [
    "gen = traverse_depthwise(root)\n",
    "[n.value for n in gen]"
   ]
  },
  {
   "cell_type": "code",
   "execution_count": 188,
   "metadata": {},
   "outputs": [
    {
     "data": {
      "text/plain": [
       "[50, 30, 80, 20, 40, 70, 90, 10, 60, 85, 100]"
      ]
     },
     "execution_count": 188,
     "metadata": {},
     "output_type": "execute_result"
    }
   ],
   "source": [
    "gen = traverse_breadthwise(root)\n",
    "[n.value for n in gen]"
   ]
  }
 ],
 "metadata": {
  "kernelspec": {
   "display_name": "Python 3",
   "language": "python",
   "name": "python3"
  },
  "language_info": {
   "codemirror_mode": {
    "name": "ipython",
    "version": 3
   },
   "file_extension": ".py",
   "mimetype": "text/x-python",
   "name": "python",
   "nbconvert_exporter": "python",
   "pygments_lexer": "ipython3",
   "version": "3.7.1"
  }
 },
 "nbformat": 4,
 "nbformat_minor": 2
}
