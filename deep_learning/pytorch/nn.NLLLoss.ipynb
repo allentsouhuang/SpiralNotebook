{
 "cells": [
  {
   "cell_type": "code",
   "execution_count": 1,
   "metadata": {},
   "outputs": [],
   "source": [
    "import torch\n",
    "import torch.nn as nn"
   ]
  },
  {
   "cell_type": "code",
   "execution_count": 2,
   "metadata": {},
   "outputs": [],
   "source": [
    "def get_log_probabilities(probs_of_0):\n",
    "    \"\"\"\n",
    "    Convenience function...\n",
    "    \"\"\"\n",
    "    return torch.log(torch.tensor([probs_of_0, 1.0 - probs_of_0]))"
   ]
  },
  {
   "cell_type": "markdown",
   "metadata": {},
   "source": [
    "I'm only using \"sum\" here just because it is slightly easier to see what's going on."
   ]
  },
  {
   "cell_type": "code",
   "execution_count": 9,
   "metadata": {},
   "outputs": [
    {
     "name": "stdout",
     "output_type": "stream",
     "text": [
      "tensor([-0.0202, -3.9120])\n"
     ]
    },
    {
     "data": {
      "text/plain": [
       "tensor(0.0202)"
      ]
     },
     "execution_count": 9,
     "metadata": {},
     "output_type": "execute_result"
    }
   ],
   "source": [
    "nll = nn.NLLLoss(reduction=\"sum\")\n",
    "lp = get_log_probabilities(0.98)\n",
    "print(lp)\n",
    "nll(lp.unsqueeze(0), torch.tensor([0]))"
   ]
  },
  {
   "cell_type": "code",
   "execution_count": 11,
   "metadata": {},
   "outputs": [
    {
     "name": "stdout",
     "output_type": "stream",
     "text": [
      "tensor([-0.0202, -3.9120])\n"
     ]
    },
    {
     "data": {
      "text/plain": [
       "tensor(0.0404)"
      ]
     },
     "execution_count": 11,
     "metadata": {},
     "output_type": "execute_result"
    }
   ],
   "source": [
    "nll = nn.NLLLoss(reduction=\"sum\")\n",
    "lp = get_log_probabilities(0.98)\n",
    "print(lp)\n",
    "nll(torch.stack([lp, lp]), torch.tensor([0, 0]))"
   ]
  },
  {
   "cell_type": "markdown",
   "metadata": {},
   "source": [
    "Ignore index is saying--hey if the correct class in the Target has an id as the input to `ignore_index`, then don't use that in the loss."
   ]
  },
  {
   "cell_type": "code",
   "execution_count": 6,
   "metadata": {},
   "outputs": [
    {
     "name": "stdout",
     "output_type": "stream",
     "text": [
      "tensor([-0.0101, -4.6052])\n",
      "tensor(0.)\n"
     ]
    }
   ],
   "source": [
    "nll = nn.NLLLoss(reduction=\"sum\", ignore_index=0)\n",
    "probs_of_0 = 0.99\n",
    "lp = get_log_probabilities(probs_of_0)\n",
    "print(lp)\n",
    "# unsqueeze at 0 because the first dimension has to be batch size\n",
    "print(nll(lp.unsqueeze(0), torch.tensor([0])))"
   ]
  }
 ],
 "metadata": {
  "kernelspec": {
   "display_name": "Python 3",
   "language": "python",
   "name": "python3"
  },
  "language_info": {
   "codemirror_mode": {
    "name": "ipython",
    "version": 3
   },
   "file_extension": ".py",
   "mimetype": "text/x-python",
   "name": "python",
   "nbconvert_exporter": "python",
   "pygments_lexer": "ipython3",
   "version": "3.7.0"
  }
 },
 "nbformat": 4,
 "nbformat_minor": 2
}
