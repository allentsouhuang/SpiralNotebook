{
 "cells": [
  {
   "cell_type": "markdown",
   "metadata": {},
   "source": [
    "# Metaclasses"
   ]
  },
  {
   "cell_type": "markdown",
   "metadata": {},
   "source": [
    "Metaclasses provide customization of class instantiation."
   ]
  },
  {
   "cell_type": "markdown",
   "metadata": {},
   "source": [
    "## Creating a class the 'hard' way"
   ]
  },
  {
   "cell_type": "code",
   "execution_count": 56,
   "metadata": {},
   "outputs": [],
   "source": [
    "def init(self, name):\n",
    "    self.name = name\n",
    "\n",
    "def say(self):\n",
    "    print(self.name)\n",
    "    \n",
    "attrs = {\n",
    "    '__init__': init,\n",
    "    'say': say,\n",
    "    'kingdom': 'catdom'\n",
    "}\n",
    "\n",
    "superclasses = tuple([object])\n",
    "Cat = type('Cat', superclasses, attrs)"
   ]
  },
  {
   "cell_type": "code",
   "execution_count": 58,
   "metadata": {},
   "outputs": [
    {
     "name": "stdout",
     "output_type": "stream",
     "text": [
      "name\n"
     ]
    }
   ],
   "source": [
    "a = Cat('name')\n",
    "a.say()"
   ]
  },
  {
   "cell_type": "markdown",
   "metadata": {},
   "source": [
    "## Workflow of metaclasses"
   ]
  },
  {
   "cell_type": "code",
   "execution_count": 6,
   "metadata": {},
   "outputs": [],
   "source": [
    "import pprint as pp\n",
    "import textwrap"
   ]
  },
  {
   "cell_type": "code",
   "execution_count": 53,
   "metadata": {},
   "outputs": [],
   "source": [
    "class MyMeta(type):\n",
    "    \n",
    "    def __call__(cls, *args, **kwargs):\n",
    "        print('MyMeta: __call__ start')\n",
    "        indent = '    '\n",
    "        print(textwrap.indent('arg0: {}'.format(cls), indent))\n",
    "        print(textwrap.indent('args: {}'.format(pp.pformat(args)), indent))\n",
    "        print(textwrap.indent('kwargs: {}'.format(pp.pformat(kwargs)), indent))\n",
    "        to_return = super(MyMeta, cls).__call__(*args, **kwargs)\n",
    "        print('MyMeta: __call__ end')\n",
    "        return to_return\n",
    "\n",
    "    def __new__(cls, name, superclasses, dct):\n",
    "        '''\n",
    "        Creates an instance of the class MyMeta\n",
    "        cls is an instance of the type (meta)class--i.e. MyMeta\n",
    "        \n",
    "        The way we call type in the 'hard' way above, the arguments for this __new__\n",
    "        method mirror that.\n",
    "        \n",
    "        name is the name of the class\n",
    "        parents is a tuple of superclasses\n",
    "        dct denote the attributes of the class\n",
    "        \n",
    "        Theory: This is basically a way for us to 'decorate' the type function.\n",
    "        \n",
    "        '''\n",
    "        \n",
    "        print('MyMeta: __new__ start')\n",
    "        indent = '    '\n",
    "        print(textwrap.indent('arg0: {}'.format(cls), indent))\n",
    "        print(textwrap.indent('arg1: {}'.format(name), indent))\n",
    "        print(textwrap.indent('arg2: {}'.format(superclasses), indent))\n",
    "        print(textwrap.indent('arg2: {}'.format(pp.pformat(dct)), indent))\n",
    "            \n",
    "        to_return = super(MyMeta, cls).__new__(cls, name, superclasses, dct)\n",
    "        \n",
    "        # At this point, to_return is now a fully fledged class!\n",
    "        # As such, you could start adding attributes to the class like you would\n",
    "        # in the __init__ method.\n",
    "        to_return.attr_from_new = 'attr_from_new'\n",
    "        \n",
    "        print(textwrap.indent('returning: {}'.format(to_return), indent))\n",
    "        \n",
    "        print('MyMeta: __new__ end')\n",
    "        return to_return  # common mistake is to not return anything and just call the superclass\n",
    "\n",
    "    \n",
    "    def __init__(cls, name, superclasses, dct):\n",
    "        '''\n",
    "        \n",
    "        By this time, the class has been created.\n",
    "        We can initialize a class the same way we initialize an instance!\n",
    "        \n",
    "        cls is the return value of __new__\n",
    "        \n",
    "        '''\n",
    "        print('MyMeta: __init__ start')\n",
    "        indent = '    '        \n",
    "        print(textwrap.indent('arg0: {}'.format(cls), indent))\n",
    "        print(textwrap.indent('arg1: {}'.format(name), indent))\n",
    "        print(textwrap.indent('arg2: {}'.format(superclasses), indent))\n",
    "        print(textwrap.indent('arg2: {}'.format(pp.pformat(dct)), indent))\n",
    "\n",
    "        cls.attr_from_init = 'attr_from_init'\n",
    "        \n",
    "        # Questionable if this following line is necessary?\n",
    "        super(MyMeta, cls).__init__(name, superclasses, dct)\n",
    "        \n",
    "        print('MyMeta: __init__ end')"
   ]
  },
  {
   "cell_type": "code",
   "execution_count": 54,
   "metadata": {},
   "outputs": [
    {
     "name": "stdout",
     "output_type": "stream",
     "text": [
      "MyMeta: __new__ start\n",
      "    arg0: <class '__main__.MyMeta'>\n",
      "    arg1: Foo\n",
      "    arg2: ()\n",
      "    arg2: {'FOO_CLASS_VARIABLE': 'BAR',\n",
      "     '__classcell__': <cell at 0x103abcd08: empty>,\n",
      "     '__init__': <function Foo.__init__ at 0x103ba2048>,\n",
      "     '__module__': '__main__',\n",
      "     '__new__': <function Foo.__new__ at 0x103b701e0>,\n",
      "     '__qualname__': 'Foo'}\n",
      "    returning: <class '__main__.Foo'>\n",
      "MyMeta: __new__ end\n",
      "MyMeta: __init__ start\n",
      "    arg0: <class '__main__.Foo'>\n",
      "    arg1: Foo\n",
      "    arg2: ()\n",
      "    arg2: {'FOO_CLASS_VARIABLE': 'BAR',\n",
      "     '__classcell__': <cell at 0x103abcd08: MyMeta object at 0x7fe331429018>,\n",
      "     '__init__': <function Foo.__init__ at 0x103ba2048>,\n",
      "     '__module__': '__main__',\n",
      "     '__new__': <function Foo.__new__ at 0x103b701e0>,\n",
      "     '__qualname__': 'Foo'}\n",
      "MyMeta: __init__ end\n"
     ]
    }
   ],
   "source": [
    "class Foo(metaclass=MyMeta):\n",
    "    \n",
    "    FOO_CLASS_VARIABLE = 'BAR'\n",
    "        \n",
    "    def __new__(cls, *args, **kwargs):\n",
    "        '''\n",
    "        Creates an instance of the class Foo\n",
    "        cls is an instance of the MyMeta (meta) class--i.e. Foo\n",
    "        '''\n",
    "        \n",
    "        print('Foo: __new__ start')\n",
    "        obj = super(Foo, cls).__new__(cls, *args, **kwargs)\n",
    "        obj.attr = 42\n",
    "        indent = '    '\n",
    "        print(textwrap.indent('arg0: {}'.format(cls), indent))\n",
    "        print(textwrap.indent('args: {}'.format(pp.pformat(args)), indent))\n",
    "        print(textwrap.indent('kwargs: {}'.format(pp.pformat(kwargs)), indent))\n",
    "        print(textwrap.indent('returning: {}'.format(obj), indent))\n",
    "        print('Foo: __new__ end')\n",
    "        return obj\n",
    "    \n",
    "    def __init__(self):\n",
    "        '''\n",
    "        Initializes the instance.\n",
    "        self is an instance of the class Foo\n",
    "        '''\n",
    "        print('Foo: __init__ start')\n",
    "        print(textwrap.indent('arg0: {}'.format(str(self)), '    '))\n",
    "        print('Foo: __init__ end')\n",
    "        "
   ]
  },
  {
   "cell_type": "code",
   "execution_count": 55,
   "metadata": {},
   "outputs": [
    {
     "name": "stdout",
     "output_type": "stream",
     "text": [
      "MyMeta: __call__ start\n",
      "    arg0: <class '__main__.Foo'>\n",
      "    args: ()\n",
      "    kwargs: {}\n",
      "Foo: __new__ start\n",
      "    arg0: <class '__main__.Foo'>\n",
      "    args: ()\n",
      "    kwargs: {}\n",
      "    returning: <__main__.Foo object at 0x103b65c18>\n",
      "Foo: __new__ end\n",
      "Foo: __init__ start\n",
      "    arg0: <__main__.Foo object at 0x103b65c18>\n",
      "Foo: __init__ end\n",
      "MyMeta: __call__ end\n"
     ]
    }
   ],
   "source": [
    "a = Foo()"
   ]
  },
  {
   "cell_type": "code",
   "execution_count": 132,
   "metadata": {},
   "outputs": [
    {
     "data": {
      "text/plain": [
       "'attr_from_new'"
      ]
     },
     "execution_count": 132,
     "metadata": {},
     "output_type": "execute_result"
    }
   ],
   "source": [
    "Foo.attr_from_new"
   ]
  },
  {
   "cell_type": "code",
   "execution_count": 131,
   "metadata": {},
   "outputs": [
    {
     "data": {
      "text/plain": [
       "'attr_from_init'"
      ]
     },
     "execution_count": 131,
     "metadata": {},
     "output_type": "execute_result"
    }
   ],
   "source": [
    "Foo.attr_from_init"
   ]
  },
  {
   "cell_type": "code",
   "execution_count": 35,
   "metadata": {},
   "outputs": [
    {
     "data": {
      "text/plain": [
       "'BAR'"
      ]
     },
     "execution_count": 35,
     "metadata": {},
     "output_type": "execute_result"
    }
   ],
   "source": [
    "Foo.FOO_CLASS_VARIABLE"
   ]
  },
  {
   "cell_type": "code",
   "execution_count": 40,
   "metadata": {},
   "outputs": [
    {
     "data": {
      "text/plain": [
       "'attr_from_new'"
      ]
     },
     "execution_count": 40,
     "metadata": {},
     "output_type": "execute_result"
    }
   ],
   "source": [
    "a.attr_from_new"
   ]
  },
  {
   "cell_type": "code",
   "execution_count": 41,
   "metadata": {},
   "outputs": [
    {
     "data": {
      "text/plain": [
       "'attr_from_init'"
      ]
     },
     "execution_count": 41,
     "metadata": {},
     "output_type": "execute_result"
    }
   ],
   "source": [
    "a.attr_from_init"
   ]
  },
  {
   "cell_type": "code",
   "execution_count": 42,
   "metadata": {},
   "outputs": [
    {
     "data": {
      "text/plain": [
       "42"
      ]
     },
     "execution_count": 42,
     "metadata": {},
     "output_type": "execute_result"
    }
   ],
   "source": [
    "a.attr"
   ]
  }
 ],
 "metadata": {
  "kernelspec": {
   "display_name": "Python 3",
   "language": "python",
   "name": "python3"
  },
  "language_info": {
   "codemirror_mode": {
    "name": "ipython",
    "version": 3
   },
   "file_extension": ".py",
   "mimetype": "text/x-python",
   "name": "python",
   "nbconvert_exporter": "python",
   "pygments_lexer": "ipython3",
   "version": "3.7.0"
  }
 },
 "nbformat": 4,
 "nbformat_minor": 2
}
