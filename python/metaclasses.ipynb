{
 "cells": [
  {
   "cell_type": "markdown",
   "metadata": {},
   "source": [
    "# Metaclasses"
   ]
  },
  {
   "cell_type": "markdown",
   "metadata": {},
   "source": [
    "Metaclasses provide customization of class instantiation."
   ]
  },
  {
   "cell_type": "markdown",
   "metadata": {},
   "source": [
    "## Creating a class the 'hard' way"
   ]
  },
  {
   "cell_type": "code",
   "execution_count": 56,
   "metadata": {},
   "outputs": [],
   "source": [
    "def init(self, name):\n",
    "    self.name = name\n",
    "\n",
    "def say(self):\n",
    "    print(self.name)\n",
    "    \n",
    "attrs = {\n",
    "    '__init__': init,\n",
    "    'say': say,\n",
    "    'kingdom': 'catdom'\n",
    "}\n",
    "\n",
    "superclasses = tuple([object])\n",
    "Cat = type('Cat', superclasses, attrs)"
   ]
  },
  {
   "cell_type": "code",
   "execution_count": 58,
   "metadata": {},
   "outputs": [
    {
     "name": "stdout",
     "output_type": "stream",
     "text": [
      "name\n"
     ]
    }
   ],
   "source": [
    "a = Cat('name')\n",
    "a.say()"
   ]
  },
  {
   "cell_type": "markdown",
   "metadata": {},
   "source": [
    "This is the same as:"
   ]
  },
  {
   "cell_type": "code",
   "execution_count": 1,
   "metadata": {},
   "outputs": [],
   "source": [
    "class Cat(object):\n",
    "    kingdom = 'catdom'\n",
    "    def __init__(self, name):\n",
    "        self.name = name\n",
    "    def say(self):\n",
    "        print(self.name)"
   ]
  },
  {
   "cell_type": "markdown",
   "metadata": {},
   "source": [
    "## Workflow of metaclasses"
   ]
  },
  {
   "cell_type": "code",
   "execution_count": 13,
   "metadata": {},
   "outputs": [],
   "source": [
    "import pprint as pp\n",
    "import weakref"
   ]
  },
  {
   "cell_type": "code",
   "execution_count": 105,
   "metadata": {},
   "outputs": [],
   "source": [
    "class MyMeta(type):\n",
    "    \n",
    "    # Optional\n",
    "    @classmethod\n",
    "    def __prepare__(cls, name, bases):\n",
    "        '''\n",
    "        Returns a dictionary or a mapping object...that is what is a namespace\n",
    "        Creates the class namespace prior to the body of any class definition being processed.\n",
    "        '''\n",
    "        return super().__prepare__(name, bases)  # type.__prepare__(name, bases) returns a dictionary\n",
    "\n",
    "    def __new__(cls, clsname, bases, clsdict):\n",
    "        '''\n",
    "        Creates an instance of the class MyMeta\n",
    "        Called after the class body has been fully executed.\n",
    "        Common that only __new__ or __init__ is defined in the metaclass, not both.\n",
    "        '''\n",
    "        \n",
    "        print('MyMeta: __new__ start')\n",
    "        print('arg0: {}'.format(cls))\n",
    "        print('arg1: {}'.format(clsname))\n",
    "        print('arg2: {}'.format(bases))\n",
    "        print('arg3: {}'.format(pp.pformat(clsdict)))\n",
    "        \n",
    "        to_return = super().__new__(cls, clsname, bases, clsdict)\n",
    "        to_return.attr_from_new = 'attr_from_new'\n",
    "        \n",
    "        print('returning: {}'.format(to_return))\n",
    "        print('MyMeta: __new__ end')\n",
    "        \n",
    "        return to_return  # common mistake is to not return anything and just call the superclass\n",
    "\n",
    "    \n",
    "    def __init__(self, name, bases, dct):\n",
    "        '''\n",
    "        Initialize the class.\n",
    "        \n",
    "        self is an instance of the metaclass--i.e. a class\n",
    "        '''\n",
    "        print('MyMeta: __init__ start')\n",
    "        print('arg0: {}'.format(self))\n",
    "        print('arg1: {}'.format(name))\n",
    "        print('arg2: {}'.format(bases))\n",
    "        print('arg3: {}'.format(pp.pformat(dct)))\n",
    "\n",
    "        self.attr_from_init = 'attr_from_init'\n",
    "        \n",
    "        super().__init__(name, bases, dct)\n",
    "        \n",
    "        print('MyMeta: __init__ end')\n",
    "        \n",
    "    def __call__(self, *args, **kwargs):\n",
    "        print('MyMeta: __call__ start')\n",
    "        print('arg0: {}'.format(self))\n",
    "        print('args: {}'.format(pp.pformat(args)))\n",
    "        print('kwargs: {}'.format(pp.pformat(kwargs)))\n",
    "        to_return = super().__call__(*args, **kwargs)\n",
    "        print('MyMeta: __call__ end')\n",
    "        return to_return"
   ]
  },
  {
   "cell_type": "code",
   "execution_count": 106,
   "metadata": {},
   "outputs": [
    {
     "name": "stdout",
     "output_type": "stream",
     "text": [
      "MyMeta: __new__ start\n",
      "arg0: <class '__main__.MyMeta'>\n",
      "arg1: Foo\n",
      "arg2: ()\n",
      "arg3: {'FOO_CLASS_VARIABLE': 'BAR',\n",
      " '__call__': <function Foo.__call__ at 0x108e73048>,\n",
      " '__classcell__': <cell at 0x108e98c48: empty>,\n",
      " '__init__': <function Foo.__init__ at 0x108f57d08>,\n",
      " '__module__': '__main__',\n",
      " '__new__': <function Foo.__new__ at 0x108f57400>,\n",
      " '__qualname__': 'Foo'}\n",
      "returning: <class '__main__.Foo'>\n",
      "MyMeta: __new__ end\n",
      "MyMeta: __init__ start\n",
      "arg0: <class '__main__.Foo'>\n",
      "arg1: Foo\n",
      "arg2: ()\n",
      "arg3: {'FOO_CLASS_VARIABLE': 'BAR',\n",
      " '__call__': <function Foo.__call__ at 0x108e73048>,\n",
      " '__classcell__': <cell at 0x108e98c48: MyMeta object at 0x7ff6ac2d7718>,\n",
      " '__init__': <function Foo.__init__ at 0x108f57d08>,\n",
      " '__module__': '__main__',\n",
      " '__new__': <function Foo.__new__ at 0x108f57400>,\n",
      " '__qualname__': 'Foo'}\n",
      "MyMeta: __init__ end\n"
     ]
    }
   ],
   "source": [
    "class Foo(metaclass=MyMeta):\n",
    "    \n",
    "    FOO_CLASS_VARIABLE = 'BAR'\n",
    "        \n",
    "    def __new__(cls, *args, **kwargs):\n",
    "        '''\n",
    "        Creates an instance of the class Foo\n",
    "        '''\n",
    "        \n",
    "        print('Foo: __new__ start')\n",
    "        obj = super().__new__(cls, *args, **kwargs)\n",
    "        obj.attr = 42\n",
    "        print('arg0: {}'.format(cls))\n",
    "        print('args: {}'.format(pp.pformat(args)))\n",
    "        print('kwargs: {}'.format(pp.pformat(kwargs)))\n",
    "        print('returning: {}'.format(obj))\n",
    "        print('Foo: __new__ end')\n",
    "        return obj\n",
    "    \n",
    "    def __init__(self):\n",
    "        '''\n",
    "        Initializes the instance.\n",
    "        self is an instance of the class Foo\n",
    "        '''\n",
    "        print('Foo: __init__ start')\n",
    "        print('arg0: {}'.format(str(self)))\n",
    "        print('Foo: __init__ end')\n",
    "    "
   ]
  },
  {
   "cell_type": "code",
   "execution_count": 107,
   "metadata": {},
   "outputs": [
    {
     "name": "stdout",
     "output_type": "stream",
     "text": [
      "MyMeta: __call__ start\n",
      "arg0: <class '__main__.Foo'>\n",
      "args: ()\n",
      "kwargs: {}\n",
      "Foo: __new__ start\n",
      "arg0: <class '__main__.Foo'>\n",
      "args: ()\n",
      "kwargs: {}\n",
      "returning: <__main__.Foo object at 0x108f2ec18>\n",
      "Foo: __new__ end\n",
      "Foo: __init__ start\n",
      "arg0: <__main__.Foo object at 0x108f2ec18>\n",
      "Foo: __init__ end\n",
      "MyMeta: __call__ end\n"
     ]
    }
   ],
   "source": [
    "a = Foo()"
   ]
  },
  {
   "cell_type": "code",
   "execution_count": 132,
   "metadata": {},
   "outputs": [
    {
     "data": {
      "text/plain": [
       "'attr_from_new'"
      ]
     },
     "execution_count": 132,
     "metadata": {},
     "output_type": "execute_result"
    }
   ],
   "source": [
    "Foo.attr_from_new"
   ]
  },
  {
   "cell_type": "code",
   "execution_count": 131,
   "metadata": {},
   "outputs": [
    {
     "data": {
      "text/plain": [
       "'attr_from_init'"
      ]
     },
     "execution_count": 131,
     "metadata": {},
     "output_type": "execute_result"
    }
   ],
   "source": [
    "Foo.attr_from_init"
   ]
  },
  {
   "cell_type": "code",
   "execution_count": 35,
   "metadata": {},
   "outputs": [
    {
     "data": {
      "text/plain": [
       "'BAR'"
      ]
     },
     "execution_count": 35,
     "metadata": {},
     "output_type": "execute_result"
    }
   ],
   "source": [
    "Foo.FOO_CLASS_VARIABLE"
   ]
  },
  {
   "cell_type": "code",
   "execution_count": 40,
   "metadata": {},
   "outputs": [
    {
     "data": {
      "text/plain": [
       "'attr_from_new'"
      ]
     },
     "execution_count": 40,
     "metadata": {},
     "output_type": "execute_result"
    }
   ],
   "source": [
    "a.attr_from_new"
   ]
  },
  {
   "cell_type": "code",
   "execution_count": 41,
   "metadata": {},
   "outputs": [
    {
     "data": {
      "text/plain": [
       "'attr_from_init'"
      ]
     },
     "execution_count": 41,
     "metadata": {},
     "output_type": "execute_result"
    }
   ],
   "source": [
    "a.attr_from_init"
   ]
  },
  {
   "cell_type": "code",
   "execution_count": 42,
   "metadata": {},
   "outputs": [
    {
     "data": {
      "text/plain": [
       "42"
      ]
     },
     "execution_count": 42,
     "metadata": {},
     "output_type": "execute_result"
    }
   ],
   "source": [
    "a.attr"
   ]
  },
  {
   "cell_type": "markdown",
   "metadata": {},
   "source": [
    "# Cached"
   ]
  },
  {
   "cell_type": "code",
   "execution_count": 100,
   "metadata": {},
   "outputs": [],
   "source": [
    "class Cached(type):\n",
    "    \n",
    "    def __init__(self, *args, **kwargs):\n",
    "        super().__init__(*args, **kwargs)\n",
    "        self.__cache = weakref.WeakValueDictionary()\n",
    "    \n",
    "    def __call__(self, *args):\n",
    "        \n",
    "        print(args)\n",
    "        if args in self.__cache:\n",
    "            return self.__cache[args]\n",
    "        else:\n",
    "            obj = super().__call__(*args)\n",
    "            self.__cache[args] = obj\n",
    "            return obj"
   ]
  },
  {
   "cell_type": "code",
   "execution_count": 101,
   "metadata": {},
   "outputs": [],
   "source": [
    "class DataModel(metaclass=Cached):\n",
    "    pass"
   ]
  },
  {
   "cell_type": "code",
   "execution_count": 102,
   "metadata": {},
   "outputs": [],
   "source": [
    "class FooDataModel(DataModel):\n",
    "    def __init__(self, name):\n",
    "        self.name = name"
   ]
  },
  {
   "cell_type": "code",
   "execution_count": 103,
   "metadata": {},
   "outputs": [
    {
     "ename": "TypeError",
     "evalue": "__call__() got an unexpected keyword argument 'foo'",
     "output_type": "error",
     "traceback": [
      "\u001b[0;31m---------------------------------------------------------------------------\u001b[0m",
      "\u001b[0;31mTypeError\u001b[0m                                 Traceback (most recent call last)",
      "\u001b[0;32m<ipython-input-103-51f215f95bda>\u001b[0m in \u001b[0;36m<module>\u001b[0;34m()\u001b[0m\n\u001b[0;32m----> 1\u001b[0;31m \u001b[0ma\u001b[0m \u001b[0;34m=\u001b[0m \u001b[0mFooDataModel\u001b[0m\u001b[0;34m(\u001b[0m\u001b[0;34m'Allen'\u001b[0m\u001b[0;34m,\u001b[0m \u001b[0mfoo\u001b[0m\u001b[0;34m=\u001b[0m\u001b[0;36m42\u001b[0m\u001b[0;34m)\u001b[0m\u001b[0;34m\u001b[0m\u001b[0m\n\u001b[0m\u001b[1;32m      2\u001b[0m \u001b[0mb\u001b[0m \u001b[0;34m=\u001b[0m \u001b[0mFooDataModel\u001b[0m\u001b[0;34m(\u001b[0m\u001b[0;34m'Allen'\u001b[0m\u001b[0;34m,\u001b[0m \u001b[0manswer\u001b[0m\u001b[0;34m=\u001b[0m\u001b[0;36m42\u001b[0m\u001b[0;34m)\u001b[0m\u001b[0;34m\u001b[0m\u001b[0m\n",
      "\u001b[0;31mTypeError\u001b[0m: __call__() got an unexpected keyword argument 'foo'"
     ]
    }
   ],
   "source": [
    "a = FooDataModel('Allen', foo=42)\n",
    "b = FooDataModel('Allen', answer=42)"
   ]
  },
  {
   "cell_type": "code",
   "execution_count": 98,
   "metadata": {},
   "outputs": [
    {
     "data": {
      "text/plain": [
       "[]"
      ]
     },
     "execution_count": 98,
     "metadata": {},
     "output_type": "execute_result"
    }
   ],
   "source": [
    "list(DataModel._Cached__cache.keys())"
   ]
  },
  {
   "cell_type": "code",
   "execution_count": 99,
   "metadata": {},
   "outputs": [
    {
     "data": {
      "text/plain": [
       "True"
      ]
     },
     "execution_count": 99,
     "metadata": {},
     "output_type": "execute_result"
    }
   ],
   "source": [
    "a is b"
   ]
  },
  {
   "cell_type": "code",
   "execution_count": 76,
   "metadata": {},
   "outputs": [
    {
     "data": {
      "text/plain": [
       "<weakref at 0x108d84d18; to 'FooDataModel' at 0x108f67710>"
      ]
     },
     "execution_count": 76,
     "metadata": {},
     "output_type": "execute_result"
    }
   ],
   "source": [
    "weakref.ref(a)"
   ]
  },
  {
   "cell_type": "code",
   "execution_count": null,
   "metadata": {},
   "outputs": [],
   "source": []
  },
  {
   "cell_type": "code",
   "execution_count": null,
   "metadata": {},
   "outputs": [],
   "source": []
  },
  {
   "cell_type": "code",
   "execution_count": 67,
   "metadata": {},
   "outputs": [],
   "source": [
    "import gc"
   ]
  },
  {
   "cell_type": "code",
   "execution_count": 73,
   "metadata": {},
   "outputs": [
    {
     "data": {
      "text/plain": [
       "0"
      ]
     },
     "execution_count": 73,
     "metadata": {},
     "output_type": "execute_result"
    }
   ],
   "source": [
    "gc.collect()"
   ]
  },
  {
   "cell_type": "code",
   "execution_count": 66,
   "metadata": {},
   "outputs": [
    {
     "ename": "TypeError",
     "evalue": "cannot create weak reference to 'str' object",
     "output_type": "error",
     "traceback": [
      "\u001b[0;31m---------------------------------------------------------------------------\u001b[0m",
      "\u001b[0;31mTypeError\u001b[0m                                 Traceback (most recent call last)",
      "\u001b[0;32m<ipython-input-66-fd8cf8cfdf0f>\u001b[0m in \u001b[0;36m<module>\u001b[0;34m()\u001b[0m\n\u001b[0;32m----> 1\u001b[0;31m \u001b[0mweakref\u001b[0m\u001b[0;34m.\u001b[0m\u001b[0mref\u001b[0m\u001b[0;34m(\u001b[0m\u001b[0;34m'42'\u001b[0m\u001b[0;34m)\u001b[0m\u001b[0;34m\u001b[0m\u001b[0m\n\u001b[0m",
      "\u001b[0;31mTypeError\u001b[0m: cannot create weak reference to 'str' object"
     ]
    }
   ],
   "source": [
    "weakref.ref('42')"
   ]
  },
  {
   "cell_type": "code",
   "execution_count": null,
   "metadata": {},
   "outputs": [],
   "source": []
  },
  {
   "cell_type": "code",
   "execution_count": 61,
   "metadata": {},
   "outputs": [],
   "source": [
    "d = weakref.WeakKeyDictionary()"
   ]
  },
  {
   "cell_type": "code",
   "execution_count": 65,
   "metadata": {},
   "outputs": [
    {
     "ename": "TypeError",
     "evalue": "cannot create weak reference to 'list' object",
     "output_type": "error",
     "traceback": [
      "\u001b[0;31m---------------------------------------------------------------------------\u001b[0m",
      "\u001b[0;31mTypeError\u001b[0m                                 Traceback (most recent call last)",
      "\u001b[0;32m<ipython-input-65-da9319614b62>\u001b[0m in \u001b[0;36m<module>\u001b[0;34m()\u001b[0m\n\u001b[0;32m----> 1\u001b[0;31m \u001b[0md\u001b[0m\u001b[0;34m[\u001b[0m\u001b[0;34m[\u001b[0m\u001b[0;34m'42'\u001b[0m\u001b[0;34m]\u001b[0m\u001b[0;34m]\u001b[0m \u001b[0;34m=\u001b[0m \u001b[0;36m42\u001b[0m\u001b[0;34m\u001b[0m\u001b[0m\n\u001b[0m",
      "\u001b[0;32m/anaconda3/lib/python3.7/weakref.py\u001b[0m in \u001b[0;36m__setitem__\u001b[0;34m(self, key, value)\u001b[0m\n\u001b[1;32m    405\u001b[0m \u001b[0;34m\u001b[0m\u001b[0m\n\u001b[1;32m    406\u001b[0m     \u001b[0;32mdef\u001b[0m \u001b[0m__setitem__\u001b[0m\u001b[0;34m(\u001b[0m\u001b[0mself\u001b[0m\u001b[0;34m,\u001b[0m \u001b[0mkey\u001b[0m\u001b[0;34m,\u001b[0m \u001b[0mvalue\u001b[0m\u001b[0;34m)\u001b[0m\u001b[0;34m:\u001b[0m\u001b[0;34m\u001b[0m\u001b[0m\n\u001b[0;32m--> 407\u001b[0;31m         \u001b[0mself\u001b[0m\u001b[0;34m.\u001b[0m\u001b[0mdata\u001b[0m\u001b[0;34m[\u001b[0m\u001b[0mref\u001b[0m\u001b[0;34m(\u001b[0m\u001b[0mkey\u001b[0m\u001b[0;34m,\u001b[0m \u001b[0mself\u001b[0m\u001b[0;34m.\u001b[0m\u001b[0m_remove\u001b[0m\u001b[0;34m)\u001b[0m\u001b[0;34m]\u001b[0m \u001b[0;34m=\u001b[0m \u001b[0mvalue\u001b[0m\u001b[0;34m\u001b[0m\u001b[0m\n\u001b[0m\u001b[1;32m    408\u001b[0m \u001b[0;34m\u001b[0m\u001b[0m\n\u001b[1;32m    409\u001b[0m     \u001b[0;32mdef\u001b[0m \u001b[0mcopy\u001b[0m\u001b[0;34m(\u001b[0m\u001b[0mself\u001b[0m\u001b[0;34m)\u001b[0m\u001b[0;34m:\u001b[0m\u001b[0;34m\u001b[0m\u001b[0m\n",
      "\u001b[0;31mTypeError\u001b[0m: cannot create weak reference to 'list' object"
     ]
    }
   ],
   "source": [
    "d[['42']] = 42"
   ]
  },
  {
   "cell_type": "code",
   "execution_count": null,
   "metadata": {},
   "outputs": [],
   "source": [
    "d"
   ]
  },
  {
   "cell_type": "code",
   "execution_count": null,
   "metadata": {},
   "outputs": [],
   "source": []
  },
  {
   "cell_type": "code",
   "execution_count": null,
   "metadata": {},
   "outputs": [],
   "source": []
  },
  {
   "cell_type": "code",
   "execution_count": null,
   "metadata": {},
   "outputs": [],
   "source": []
  },
  {
   "cell_type": "code",
   "execution_count": null,
   "metadata": {},
   "outputs": [],
   "source": [
    "a"
   ]
  },
  {
   "cell_type": "code",
   "execution_count": 34,
   "metadata": {},
   "outputs": [],
   "source": [
    "a = FooDataModel('hello')"
   ]
  },
  {
   "cell_type": "code",
   "execution_count": 35,
   "metadata": {},
   "outputs": [
    {
     "data": {
      "text/plain": [
       "4445116848"
      ]
     },
     "execution_count": 35,
     "metadata": {},
     "output_type": "execute_result"
    }
   ],
   "source": [
    "id(a)"
   ]
  },
  {
   "cell_type": "code",
   "execution_count": 36,
   "metadata": {},
   "outputs": [],
   "source": [
    "b = FooDataModel('hello')"
   ]
  },
  {
   "cell_type": "code",
   "execution_count": 37,
   "metadata": {},
   "outputs": [
    {
     "data": {
      "text/plain": [
       "4445197032"
      ]
     },
     "execution_count": 37,
     "metadata": {},
     "output_type": "execute_result"
    }
   ],
   "source": [
    "id(b)"
   ]
  },
  {
   "cell_type": "code",
   "execution_count": 38,
   "metadata": {},
   "outputs": [
    {
     "data": {
      "text/plain": [
       "False"
      ]
     },
     "execution_count": 38,
     "metadata": {},
     "output_type": "execute_result"
    }
   ],
   "source": [
    "a is b"
   ]
  },
  {
   "cell_type": "code",
   "execution_count": null,
   "metadata": {},
   "outputs": [],
   "source": []
  },
  {
   "cell_type": "code",
   "execution_count": null,
   "metadata": {},
   "outputs": [],
   "source": []
  },
  {
   "cell_type": "code",
   "execution_count": null,
   "metadata": {},
   "outputs": [],
   "source": []
  },
  {
   "cell_type": "code",
   "execution_count": null,
   "metadata": {},
   "outputs": [],
   "source": []
  },
  {
   "cell_type": "code",
   "execution_count": null,
   "metadata": {},
   "outputs": [],
   "source": []
  }
 ],
 "metadata": {
  "kernelspec": {
   "display_name": "Python 3",
   "language": "python",
   "name": "python3"
  },
  "language_info": {
   "codemirror_mode": {
    "name": "ipython",
    "version": 3
   },
   "file_extension": ".py",
   "mimetype": "text/x-python",
   "name": "python",
   "nbconvert_exporter": "python",
   "pygments_lexer": "ipython3",
   "version": "3.7.0"
  }
 },
 "nbformat": 4,
 "nbformat_minor": 2
}
